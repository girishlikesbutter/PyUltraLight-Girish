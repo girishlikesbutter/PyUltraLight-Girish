{
 "cells": [
  {
   "cell_type": "code",
   "execution_count": null,
   "metadata": {},
   "outputs": [
    {
     "name": "stderr",
     "output_type": "stream",
     "text": [
      "/home/ubuntu/.local/lib/python3.5/site-packages/skimage/transform/_warps.py:110: UserWarning: Anti-aliasing will be enabled by default in skimage 0.15 to avoid aliasing artifacts when down-sampling images.\n",
      "  warn(\"Anti-aliasing will be enabled by default in skimage 0.15 to \"\n"
     ]
    },
    {
     "name": "stdout",
     "output_type": "stream",
     "text": [
      "Generating Colour array...\n",
      "Rendering...\n",
      "rho_0.png complete\n",
      "Generating Colour array...\n",
      "Rendering...\n",
      "rho_1.png complete\n",
      "Generating Colour array...\n",
      "Rendering...\n",
      "rho_2.png complete\n",
      "Generating Colour array...\n",
      "Rendering...\n",
      "rho_3.png complete\n",
      "Generating Colour array...\n",
      "Rendering...\n",
      "rho_4.png complete\n",
      "Generating Colour array...\n"
     ]
    }
   ],
   "source": [
    "import numpy as np\n",
    "from skimage.transform import resize\n",
    "from matplotlib import cm\n",
    "import matplotlib.pyplot as plt\n",
    "from mpl_toolkits.mplot3d import Axes3D\n",
    "\n",
    "IMG_DIM = 80\n",
    "\n",
    "def Sigmoid(x):\n",
    "    return (1 - 1/((x+0.0055)/3 + 1))\n",
    "    \n",
    "def normalize(arr):\n",
    "    arr_min = np.min(arr)\n",
    "    return (arr-arr_min)/(np.max(arr)-arr_min)\n",
    "\n",
    "def explode(data):\n",
    "    shape_arr = np.array(data.shape)\n",
    "    size = shape_arr[:3]*2 - 1\n",
    "    exploded = np.zeros(np.concatenate([size, shape_arr[3:]]), dtype=data.dtype)\n",
    "    exploded[::2, ::2, ::2] = data\n",
    "    return exploded\n",
    "\n",
    "def expand_coordinates(indices):\n",
    "    x, y, z = indices\n",
    "    x[1::2, :, :] += 1\n",
    "    y[:, 1::2, :] += 1\n",
    "    z[:, :, 1::2] += 1\n",
    "    return x, y, z\n",
    "\n",
    "def plot_cube(num, angle=320):\n",
    "    plt.ioff()\n",
    "    transformed = np.load('TestOutput/2018.10.5_00:09:19_128/rho_#' + str(num) + '.npy')\n",
    "    resized = resize(transformed, (IMG_DIM, IMG_DIM, IMG_DIM), mode='constant')\n",
    "    cube = resized[:50,::-1,:50]\n",
    "    cube = normalize(cube)    \n",
    "    \n",
    "    facecolors = cm.viridis(cube)\n",
    "    facecolors[:,:,:,-1] = Sigmoid(cube)\n",
    "    facecolors = explode(facecolors)\n",
    "    \n",
    "    filled = facecolors[:,:,:,-1] != 0\n",
    "    x, y, z = expand_coordinates(np.indices(np.array(filled.shape) + 1))\n",
    "    \n",
    "    fig = plt.figure(figsize=(30/2.54, 30/2.54))\n",
    "    ax = fig.gca(projection='3d')\n",
    "    ax.view_init(30, angle)\n",
    "    ax.set_xlim(right=IMG_DIM*2)\n",
    "    ax.set_ylim(top=IMG_DIM*2)\n",
    "    ax.set_zlim(top=IMG_DIM*2)\n",
    "    print('Generating Colour array...')\n",
    "    ax.voxels(x, y, z, filled, facecolors=facecolors)\n",
    "    print('Rendering...')\n",
    "    plt.savefig('3dimages/rho_' + str(num) + '.png')\n",
    "    print('rho_' + str(num) + '.png', 'complete')\n",
    "    \n",
    "for i in range(11):\n",
    "    plot_cube(i)\n",
    "print('Done')"
   ]
  },
  {
   "cell_type": "code",
   "execution_count": 5,
   "metadata": {},
   "outputs": [
    {
     "name": "stdout",
     "output_type": "stream",
     "text": [
      "Imageio: 'ffmpeg-linux64-v3.3.1' was not found on your computer; downloading it now.\n",
      "Try 1. Download from https://github.com/imageio/imageio-binaries/raw/master/ffmpeg/ffmpeg-linux64-v3.3.1 (43.8 MB)\n",
      "Downloading: 8192/45929032 bytes (0.03604480/45929032 bytes (7.8%7634944/45929032 bytes (16.611714560/45929032 bytes (25.5%15376384/45929032 bytes (33.5%19447808/45929032 bytes (42.3%23519232/45929032 bytes (51.2%27607040/45929032 bytes (60.1%31694848/45929032 bytes (69.0%35774464/45929032 bytes (77.9%39813120/45929032 bytes (86.7%43368448/45929032 bytes (94.4%45929032/45929032 bytes (100.0%)\n",
      "  Done\n",
      "File saved as /home/ubuntu/.imageio/ffmpeg/ffmpeg-linux64-v3.3.1.\n",
      "\n",
      "[MoviePy] Building file Animation.gif with imageio\n"
     ]
    },
    {
     "name": "stderr",
     "output_type": "stream",
     "text": [
      "100%|██████████| 11/11 [00:01<00:00,  7.27it/s]\n"
     ]
    }
   ],
   "source": [
    "import glob\n",
    "import moviepy.editor as mpy\n",
    "\n",
    "gif_name = 'Animation'\n",
    "fps = 7\n",
    "file_list = glob.glob('3dimages/*.png') # Get all the pngs in the current directory\n",
    "list.sort(file_list, key=lambda x: int(x.split('_')[1].split('.png')[0])) # Sort the images by #, this may need to be tweaked for your use case\n",
    "clip = mpy.ImageSequenceClip(file_list, fps=fps)\n",
    "clip.write_gif('{}.gif'.format(gif_name), fps=fps)"
   ]
  },
  {
   "cell_type": "code",
   "execution_count": null,
   "metadata": {},
   "outputs": [],
   "source": []
  }
 ],
 "metadata": {
  "kernelspec": {
   "display_name": "Python 3",
   "language": "python",
   "name": "python3"
  },
  "language_info": {
   "codemirror_mode": {
    "name": "ipython",
    "version": 3
   },
   "file_extension": ".py",
   "mimetype": "text/x-python",
   "name": "python",
   "nbconvert_exporter": "python",
   "pygments_lexer": "ipython3",
   "version": "3.5.2"
  }
 },
 "nbformat": 4,
 "nbformat_minor": 2
}
