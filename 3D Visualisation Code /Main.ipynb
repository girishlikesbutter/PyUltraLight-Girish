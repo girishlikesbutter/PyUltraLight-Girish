{
 "cells": [
  {
   "cell_type": "code",
   "execution_count": null,
   "metadata": {},
   "outputs": [],
   "source": [
    "import matplotlib.pyplot as plt\n",
    "import numpy as np\n",
    "from mpl_toolkits.mplot3d import Axes3D\n",
    "import sys\n",
    "\n",
    "BOUND = 128\n",
    "\n",
    "# coords\n",
    "x, y, z = np.indices((BOUND, BOUND, BOUND))\n",
    "\n",
    "plt.close('all')\n",
    "\n",
    "data = np.load('rho_#5.npy')\n",
    "\n",
    "# drawing and linking cuboids\n",
    "cube1 = (x < BOUND+1) & (y < BOUND+1) & (z < BOUND+1)\n",
    "# combine the objects into a single boolean array\n",
    "voxels = cube1\n",
    "\n",
    "# set colour\n",
    "colors = np.empty(voxels.shape, dtype=object)\n",
    "cnt = 1\n",
    "for i in range(BOUND):\n",
    "    for j in range(BOUND):\n",
    "        for k in range(BOUND):\n",
    "            col = str(data[i][j][k]) # extract the (string) value of xyz\n",
    "            col = float(col.split('e')[0]) # separate A*10^B into A and B\n",
    "            if cnt % 10000 == 0:\n",
    "                print(\"{} ({} total)\".format(cnt, BOUND ** 3))\n",
    "            colors[i][j][k] = (np.abs(1-col/10), 0.1, 0.1, 0.3) # convert it into rgb with r = 1-col/10, g=0.1, b=0.1 and alpha=0.3\n",
    "            cnt += 1\n",
    "\n",
    "# and plot everything\n",
    "fig = plt.figure()\n",
    "ax = fig.gca(projection='3d')\n",
    "ax.voxels(voxels, facecolors=colors)\n",
    "\n",
    "ax.set_xlabel('X')\n",
    "ax.set_ylabel('Y')\n",
    "ax.set_zlabel('Z')\n",
    "\n",
    "plt.show()"
   ]
  }
 ],
 "metadata": {
  "kernelspec": {
   "display_name": "Python 3",
   "language": "python",
   "name": "python3"
  },
  "language_info": {
   "codemirror_mode": {
    "name": "ipython",
    "version": 3
   },
   "file_extension": ".py",
   "mimetype": "text/x-python",
   "name": "python",
   "nbconvert_exporter": "python",
   "pygments_lexer": "ipython3",
   "version": "3.5.2"
  }
 },
 "nbformat": 4,
 "nbformat_minor": 2
}
